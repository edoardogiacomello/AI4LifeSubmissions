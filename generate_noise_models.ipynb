{
 "cells": [
  {
   "cell_type": "code",
   "execution_count": null,
   "metadata": {},
   "outputs": [],
   "source": [
    "import torch\n",
    "from hdn.lib.gaussianMixtureNoiseModel import GaussianMixtureNoiseModel\n",
    "from hdn.lib import histNoiseModel \n",
    "from hdn.lib.utils import plotProbabilityDistribution\n",
    "from datasets import load_datasets_yml\n",
    "from hdn.lib import histNoiseModel\n",
    "import tifffile\n",
    "import numpy as np\n",
    "import matplotlib.pyplot as plt\n",
    "import os\n",
    "import argparse\n",
    "import logging as log\n",
    "\n",
    "import matplotlib.pyplot as plt\n",
    "import matplotlib.animation as animation\n",
    "from PIL import Image"
   ]
  },
  {
   "cell_type": "code",
   "execution_count": null,
   "metadata": {},
   "outputs": [],
   "source": [
    "dataset_name = 'support'\n",
    "gt_name = 'n2v'\n",
    "dataset_yml='datasets.yml'\n",
    "\n",
    "device = torch.device(\"cuda:0\")\n",
    "dset = [d for d in load_datasets_yml(dataset_yml=dataset_yml) if d['name'] == dataset_name][0]\n",
    "\n",
    "gt_path = f'predictions/{dataset_name}/{gt_name}.tiff'\n",
    "out_folder = os.path.join('noise_models', dataset_name, gt_name)\n",
    "os.makedirs(out_folder, exist_ok=True)\n",
    "\n",
    "log.info(f\"Loading signals...\")\n",
    "observations = tifffile.imread(dset['path'])\n",
    "datamin, datamax = observations.min(), observations.max()\n",
    "signal = tifffile.imread(gt_path).squeeze()"
   ]
  },
  {
   "cell_type": "code",
   "execution_count": null,
   "metadata": {},
   "outputs": [],
   "source": [
    "min_signal=np.percentile(signal, 0)\n",
    "max_signal=np.percentile(signal, 99)\n",
    "min_signal, max_signal\n",
    "bins=256"
   ]
  },
  {
   "cell_type": "code",
   "execution_count": null,
   "metadata": {},
   "outputs": [],
   "source": [
    "\n",
    "\n",
    "histogram = histNoiseModel.createHistogram(bins=bins, minVal=datamin, maxVal=datamax, observation=observations, signal=signal)\n",
    "histogramFD = histogram[0]\n",
    "gaussianMixtureNoiseModel = GaussianMixtureNoiseModel(min_signal = min_signal, \n",
    "                                                      max_signal = max_signal, \n",
    "                                                      path=out_folder,\n",
    "                                                      weight = None, \n",
    "                                                      n_gaussian = 3, \n",
    "                                                      n_coeff = 2, \n",
    "                                                      device = device, \n",
    "                                                      min_sigma = 50)\n",
    "gaussianMixtureNoiseModel.train(signal, observations, batchSize = 250000, n_epochs = 50, learning_rate = 0.1, name = 'GMM', lowerClip = 0.5, upperClip = 99.5)\n",
    "\n",
    "\n",
    "\n",
    "\n",
    "def plotProbabilityDistribution(ax1, ax2, signalBinIndex, histogram, gaussianMixtureNoiseModel, min_signal, max_signal, n_bin, device):\n",
    "    \"\"\"Plots probability distribution P(x|s) for a certain ground truth signal.\"\"\"\n",
    "    histBinSize = (max_signal - min_signal) / n_bin\n",
    "    querySignal_numpy = (signalBinIndex / float(n_bin) * (max_signal - min_signal) + min_signal)\n",
    "    querySignal_numpy += histBinSize / 2\n",
    "    querySignal_torch = torch.from_numpy(np.array(querySignal_numpy)).float().to(device)\n",
    "    \n",
    "    queryObservations_numpy = np.arange(min_signal, max_signal, histBinSize)\n",
    "    queryObservations_numpy += histBinSize / 2\n",
    "    queryObservations = torch.from_numpy(queryObservations_numpy).float().to(device)\n",
    "    pTorch = gaussianMixtureNoiseModel.likelihood(queryObservations, querySignal_torch)\n",
    "    pNumpy = pTorch.cpu().detach().numpy()\n",
    "    \n",
    "    ax1.clear()\n",
    "    ax2.clear()\n",
    "    \n",
    "    ax1.set_xlabel('Observation Bin')\n",
    "    ax1.set_ylabel('Signal Bin')\n",
    "    ax1.imshow(histogram**0.25, cmap='gray')\n",
    "    ax1.axhline(y=signalBinIndex + 0.5, linewidth=5, color='blue', alpha=0.5)\n",
    "    \n",
    "    ax2.plot(queryObservations_numpy, histogram[signalBinIndex, :] / histBinSize, label='GT Hist: bin =' + str(signalBinIndex), color='blue', linewidth=2)\n",
    "    ax2.plot(queryObservations_numpy, pNumpy, label='GMM : ' + ' signal = ' + str(np.round(querySignal_numpy, 2)), color='red', linewidth=2)\n",
    "    ax2.set_xlabel('Observations (x) for signal s = ' + str(querySignal_numpy))\n",
    "    ax2.set_ylabel('Probability Density')\n",
    "    ax2.set_title(\"Probability Distribution P(x|s) at signal =\" + str(querySignal_numpy))\n",
    "    ax2.legend()\n",
    "\n",
    "# Initialize figure and axes\n",
    "fig, (ax1, ax2) = plt.subplots(1, 2, figsize=(12, 5))\n",
    "\n",
    "# Animation function\n",
    "def animate(i):\n",
    "    plotProbabilityDistribution(ax1, ax2, signalBinIndex=i, histogram=histogramFD, gaussianMixtureNoiseModel=gaussianMixtureNoiseModel, min_signal=datamin, max_signal=datamax, n_bin=bins, device=device)\n",
    "    return ax1, ax2\n",
    "\n",
    "# Create the animation\n",
    "ani = animation.FuncAnimation(fig, animate, frames=bins, interval=200, blit=False)\n",
    "\n",
    "# Save the animation as a GIF\n",
    "ani.save(os.path.join(out_folder, 'animation.gif'), writer='pillow')\n",
    "\n",
    "# Display the GIF in a Jupyter Notebook (if you're using one)\n",
    "from IPython.display import Image as IPImage\n",
    "IPImage(filename=os.path.join(out_folder, 'animation.gif'))"
   ]
  },
  {
   "cell_type": "code",
   "execution_count": null,
   "metadata": {},
   "outputs": [],
   "source": [
    "plt.imshow(histogram[0]**0.25, cmap='grey')"
   ]
  }
 ],
 "metadata": {
  "kernelspec": {
   "display_name": "Python 3",
   "language": "python",
   "name": "python3"
  },
  "language_info": {
   "codemirror_mode": {
    "name": "ipython",
    "version": 3
   },
   "file_extension": ".py",
   "mimetype": "text/x-python",
   "name": "python",
   "nbconvert_exporter": "python",
   "pygments_lexer": "ipython3",
   "version": "3.10.14"
  }
 },
 "nbformat": 4,
 "nbformat_minor": 2
}

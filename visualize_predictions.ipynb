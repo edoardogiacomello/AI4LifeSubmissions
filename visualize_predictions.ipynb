{
 "cells": [
  {
   "cell_type": "code",
   "execution_count": 1,
   "metadata": {},
   "outputs": [],
   "source": [
    "from careamics import CAREamist\n",
    "from datasets import load_split_datasets, load_datasets_yml\n",
    "import os\n",
    "import matplotlib.pyplot as plt\n",
    "import numpy as np"
   ]
  },
  {
   "cell_type": "code",
   "execution_count": null,
   "metadata": {},
   "outputs": [],
   "source": [
    "def visualize_predictions(input_, predictions):\n",
    "\n",
    "    plt.figure(figsize=(15, 5), dpi=300)\n",
    "    n_models = len(predictions.items())\n",
    "    fig, axs = plt.subplots(1, 1 + n_models)\n",
    "    if axs.ndim == 1:\n",
    "        axs = axs[np.newaxis, :]\n",
    "        \n",
    "    for ch in range(input_.shape[1]):\n",
    "        axs[0, 0].imshow(input_[0, ch, ...])\n",
    "        axs[0, 0].set_title('Input')\n",
    "        axs[0, 0].axis('off')\n",
    "        for i, (model_name, pred) in enumerate(predictions.items()):\n",
    "            axs[0, i+1].imshow(pred[0, ch, ...])\n",
    "            axs[0, i+1].set_title(model_name)\n",
    "            axs[0, i+1].axis('off')\n",
    "    plt.show()"
   ]
  },
  {
   "cell_type": "code",
   "execution_count": null,
   "metadata": {},
   "outputs": [],
   "source": [
    "BASE_FOLDER = 'models/run4test/checkpoints/'\n",
    "for dset in load_datasets_yml():\n",
    "\n",
    "    print(dset['name'])\n",
    "    (train, val), (train_mean, train_std), (val_mean, val_std) = load_split_datasets(dset['name'])\n",
    "    val_images = val[:5]\n",
    "    if val_images.ndim == 3:\n",
    "        val_images = val_images[:, None, ...]\n",
    "    multichannel = (val_images.shape[1] != 1)\n",
    "\n",
    "    print(val_images.shape, multichannel)\n",
    "\n",
    "    model_predictions = {}\n",
    "\n",
    "    for model_type in ['n2v', 'n2v2']:\n",
    "\n",
    "        train_modalities = ['indch'] + ([''] if multichannel else [])\n",
    "        for train_modality in train_modalities:\n",
    "            model_path = os.path.join(BASE_FOLDER, f'{model_type}_{dset[\"name\"]}{train_modality}.ckpt')\n",
    "            print(model_path, os.path.isfile(model_path))\n",
    "            \n",
    "            model = CAREamist(model_path)\n",
    "            try:\n",
    "                predictions = model.predict(val_images)\n",
    "            except RuntimeError:\n",
    "                predictions = np.zeros_like(val_images)\n",
    "                print(f'Failed to predict with {model_path}')\n",
    "\n",
    "            model_predictions[f'{dset[\"name\"]}_{model_type}_{train_modality}'] = predictions\n",
    "        \n",
    "    visualize_predictions(val_images, model_predictions)\n",
    "    \n",
    "        "
   ]
  }
 ],
 "metadata": {
  "interpreter": {
   "hash": "169918a9457a3c4a23b5ecc27e2db7ec6ad98feb1cb59c7a4cd6d2b0755b0036"
  },
  "kernelspec": {
   "display_name": "Python 3.10.14",
   "language": "python",
   "name": "python3"
  },
  "language_info": {
   "codemirror_mode": {
    "name": "ipython",
    "version": 3
   },
   "file_extension": ".py",
   "mimetype": "text/x-python",
   "name": "python",
   "nbconvert_exporter": "python",
   "pygments_lexer": "ipython3",
   "version": "3.10.14"
  },
  "orig_nbformat": 4
 },
 "nbformat": 4,
 "nbformat_minor": 2
}

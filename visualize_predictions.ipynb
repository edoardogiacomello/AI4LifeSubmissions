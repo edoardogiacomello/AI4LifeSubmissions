{
 "cells": [
  {
   "cell_type": "code",
   "execution_count": 1,
   "metadata": {},
   "outputs": [],
   "source": [
    "from careamics import CAREamist\n",
    "from datasets import load_split_datasets, load_datasets_yml, iter_tiff_batch\n",
    "import os\n",
    "import matplotlib.pyplot as plt\n",
    "import numpy as np\n",
    "import tifffile"
   ]
  },
  {
   "cell_type": "code",
   "execution_count": null,
   "metadata": {},
   "outputs": [],
   "source": [
    "BASE_FOLDER = 'models/run4/'\n",
    "\n",
    "# Shape: [{'input': [], 'predictions': [{'model_name': [], 'prediction': []}]\n",
    "imgs_to_show = []\n",
    "\n",
    "for dset in load_datasets_yml():\n",
    "\n",
    "    print(dset['name'])\n",
    "    (train, val), (train_mean, train_std), (val_mean, val_std) = load_split_datasets(dset['name'])\n",
    "    val_images = val[:5]\n",
    "    #if val_images.ndim == 3:\n",
    "    #    val_images = val_images[:, None, ...]\n",
    "    \n",
    "    pred_record = {'input': val_images, 'predictions': []}\n",
    "    \n",
    "    for model_type in ['n2v', 'n2v2']:\n",
    "        model_name = f'{model_type}_{dset[\"name\"]}_chwise'\n",
    "        model_path = os.path.join(BASE_FOLDER, model_name, 'checkpoints', 'last.ckpt')\n",
    "        print(model_path, os.path.isfile(model_path))\n",
    "        \n",
    "        model = CAREamist(model_path)\n",
    "        try:\n",
    "            predictions = model.predict(val_images)\n",
    "        except RuntimeError:\n",
    "            predictions = np.zeros_like(val_images)\n",
    "            print(f'Failed to predict with {model_path}')\n",
    "        pred_record['predictions'].append({'model_name': model_name, 'prediction': predictions})\n",
    "    \n",
    "    imgs_to_show.append(pred_record)\n",
    "\n",
    "        "
   ]
  },
  {
   "cell_type": "code",
   "execution_count": null,
   "metadata": {},
   "outputs": [],
   "source": [
    "def visualize_predictions(prediction_list):\n",
    "    \"\"\"\n",
    "        Prediction list is a list of dictionaries with keys 'input' and 'predictions'.\n",
    "        Each dict is a record for multiple inputs coming from the same dataset.\n",
    "\n",
    "        'input' is an ndarray of shape (N, C, H, W) if C > 1, else (N, H, W)\n",
    "        'predictions' is a list of dictionaries with keys 'model_name' and 'prediction'.\n",
    "        'model_name' is a string, 'prediction' is an ndarray of shape (N, C, H, W) if C > 1, else (N, H, W)\n",
    "\n",
    "    \"\"\"\n",
    "\n",
    "    for d, dataset in enumerate(prediction_list):\n",
    "        fig = plt.figure(figsize=(50, 10), layout='constrained', dpi=500)\n",
    "        fig.suptitle(f'Dataset: {d}')\n",
    "        \n",
    "        input_ = dataset['input']\n",
    "        predictions = dataset['predictions']\n",
    "\n",
    "        subfig = fig.subfigures(1, input_.shape[0])\n",
    "        for i, sf in enumerate(subfig):\n",
    "            input_img = input_[i]\n",
    "            if input_img.ndim == 2:\n",
    "                input_img = input_img[None, ...]\n",
    "            axs = sf.subplots(input_img.shape[0], len(predictions) + 1)\n",
    "            if input_img.shape[0] == 1:\n",
    "                axs = axs[None, ...]\n",
    "            for c in range(input_img.shape[0]):\n",
    "                axs[c, 0].imshow(input_img[c, ...], cmap='gray')\n",
    "                axs[c, 0].set_title(f'Input {i} , Channel {c}')\n",
    "                axs[c, 0].axis('off')\n",
    "                for j, pred in enumerate(predictions):\n",
    "                    axs[c, j+1].imshow(pred['prediction'][i, c, ...], cmap='gray')\n",
    "                    axs[c, j+1].set_title(pred['model_name'].split('_')[0])\n",
    "                    axs[c, j+1].axis('off')\n",
    "        #fig.tight_layout()\n",
    "        fig.show()\n",
    "\n",
    "\n",
    "\n",
    "\n",
    "\n",
    "visualize_predictions(imgs_to_show)\n",
    "plt.show()"
   ]
  }
 ],
 "metadata": {
  "interpreter": {
   "hash": "169918a9457a3c4a23b5ecc27e2db7ec6ad98feb1cb59c7a4cd6d2b0755b0036"
  },
  "kernelspec": {
   "display_name": "Python 3.10.14",
   "language": "python",
   "name": "python3"
  },
  "language_info": {
   "codemirror_mode": {
    "name": "ipython",
    "version": 3
   },
   "file_extension": ".py",
   "mimetype": "text/x-python",
   "name": "python",
   "nbconvert_exporter": "python",
   "pygments_lexer": "ipython3",
   "version": "3.10.14"
  },
  "orig_nbformat": 4
 },
 "nbformat": 4,
 "nbformat_minor": 2
}
